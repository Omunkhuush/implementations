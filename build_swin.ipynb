{
 "cells": [
  {
   "cell_type": "code",
   "execution_count": 2,
   "metadata": {},
   "outputs": [],
   "source": [
    "import os\n",
    "import time\n",
    "import json\n",
    "import random\n",
    "import argparse\n",
    "import datetime\n",
    "import numpy as np\n",
    "\n",
    "import torch\n",
    "import torch.backends.cudnn as cudnn\n",
    "import torch.distributed as dist\n",
    "\n",
    "from timm.loss import LabelSmoothingCrossEntropy, SoftTargetCrossEntropy\n",
    "from timm.utils import accuracy, AverageMeter\n",
    "\n",
    "# from config import get_config\n",
    "# from models import build_model\n",
    "# from data import build_loader\n",
    "# from lr_scheduler import build_scheduler\n",
    "# from optimizer import build_optimizer\n",
    "# from logger import create_logger\n",
    "# from utils import load_checkpoint, load_pretrained, save_checkpoint, NativeScalerWithGradNormCount, auto_resume_helper, \\\n",
    "#     reduce_tensor\n",
    "\n"
   ]
  },
  {
   "cell_type": "code",
   "execution_count": 3,
   "metadata": {},
   "outputs": [
    {
     "name": "stdout",
     "output_type": "stream",
     "text": [
      "[Warning] Fused window process have not been initialized. Please refer to get_started.md for installation\n"
     ]
    }
   ],
   "source": [
    "from swin_transformer import SwinTransformer\n"
   ]
  },
  {
   "cell_type": "code",
   "execution_count": 13,
   "metadata": {},
   "outputs": [],
   "source": [
    "import argparse\n",
    "\n",
    "parser = argparse.ArgumentParser('fdf')\n",
    "args , unparsed = parser.parse_known_args([])"
   ]
  },
  {
   "cell_type": "code",
   "execution_count": null,
   "metadata": {},
   "outputs": [],
   "source": [
    "model = SwinTransformer(img_size=384,\n",
    "                        patch_size=4,\n",
    "                        in_chans=3,\n",
    "                        num_classes=1000,\n",
    "                        embed_dim= 128,\n",
    "                        depths= [2,2,18,2],\n",
    "                        num_heads= [4, 8, 16, 32],\n",
    "                        window_size=12,\n",
    "                        mlp_ratio=4,\n",
    "                        qkv_bias=True,\n",
    "                        qk_scale=None,\n",
    "                        drop_rate=0.1,\n",
    "                        drop_path_rate=0,\n",
    "                        ape=True,\n",
    "                        norm_layer=None,\n",
    "                        patch_norm=True,\n",
    "                        use_checkpoint=False,\n",
    "                        fused_window_process=False)"
   ]
  },
  {
   "cell_type": "code",
   "execution_count": null,
   "metadata": {},
   "outputs": [],
   "source": [
    "import torch\n",
    "from swin_transformer import WindowAttention\n",
    "model = WindowAttention(768, [16,16], 2 )\n",
    "x = torch.randn(256, 1,768)\n",
    "model(x)"
   ]
  }
 ],
 "metadata": {
  "kernelspec": {
   "display_name": "vit",
   "language": "python",
   "name": "python3"
  },
  "language_info": {
   "codemirror_mode": {
    "name": "ipython",
    "version": 3
   },
   "file_extension": ".py",
   "mimetype": "text/x-python",
   "name": "python",
   "nbconvert_exporter": "python",
   "pygments_lexer": "ipython3",
   "version": "3.10.13"
  }
 },
 "nbformat": 4,
 "nbformat_minor": 2
}
